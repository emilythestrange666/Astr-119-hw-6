{
 "cells": [
  {
   "cell_type": "code",
   "execution_count": 3,
   "metadata": {},
   "outputs": [],
   "source": [
    "%matplotlib inline\n",
    "import numpy as np\n",
    "import matplotlib.pyplot as plt"
   ]
  },
  {
   "cell_type": "markdown",
   "metadata": {},
   "source": [
    "# Define our coupled derivatives to integrate"
   ]
  },
  {
   "cell_type": "code",
   "execution_count": 4,
   "metadata": {},
   "outputs": [],
   "source": [
    "def dydx(x,y):\n",
    "    \n",
    "    #set the derivatives\n",
    "    \n",
    "    #our equation is d^2y/dx^2 = -y\n",
    "    \n",
    "    #so we can write\n",
    "    #dydx = z\n",
    "    #dzdx = -y\n",
    "    \n",
    "    #we will set y = y[0]\n",
    "    #we will set z = y[1]\n",
    "    \n",
    "    #eclare an array\n",
    "    y_derivs = np.zeros(2)\n",
    "    \n",
    "    #set dydx = z\n",
    "    y_derivs[0] = y[1]\n",
    "    \n",
    "    #set dzdx = z \n",
    "    y_derivs[1] = -1*y[0]\n",
    "    \n",
    "    #here we have to return an array\n",
    "    return y_derivs"
   ]
  },
  {
   "cell_type": "markdown",
   "metadata": {},
   "source": [
    "# Define the CK method"
   ]
  },
  {
   "cell_type": "code",
   "execution_count": 25,
   "metadata": {},
   "outputs": [],
   "source": [
    "def ck_core(dydx,xi,yi,nv,h):\n",
    "    \n",
    "    #declare k? arrays\n",
    "    k1 = np.zeros(nv)\n",
    "    k2 = np.zeros(nv)\n",
    "    k3 = np.zeros(nv)\n",
    "    k4 = np.zeros(nv)\n",
    "    k5 = np.zeros(nv)\n",
    "    k6 = np.zeros(nv)\n",
    "    \n",
    "    #define steps\n",
    "    x_1 = xi\n",
    "    \n",
    "    #x_2 step\n",
    "    x_2 = xi + (0.2)*h\n",
    "    \n",
    "    #x_3 step \n",
    "    x_3 = xi + (0.3)*h\n",
    "    \n",
    "    #x_4 step \n",
    "    x_4 = xi + (0.6)*h\n",
    "    \n",
    "    #x_5 step \n",
    "    x_5 = xi + (1.0)*h\n",
    "    \n",
    "    #x_6 step \n",
    "    x_6 = xi + (7./8.)*h\n",
    "    \n",
    "    #declare a temp y array\n",
    "    y_temp = np.zeros(nv)\n",
    "    \n",
    "    #get k1 values\n",
    "    y_derivs = dydx(xi,yi)\n",
    "    k1[:] = h*y_derivs[:]\n",
    "    \n",
    "    #get k2 values\n",
    "    y_temp[:] = yi[:] + 0.2*k1[:]\n",
    "    y_derivs = dydx(x_2,y_temp)\n",
    "    k2[:] = h*y_derivs[:]\n",
    "    \n",
    "    #get k3 values\n",
    "    y_temp[:] = yi[:] + (3.0/40.0)*k1[:] + (9.0/40.0)*k2[:]\n",
    "    y_derivs = dydx(x_3,y_temp)\n",
    "    k3[:] = h*y_derivs[:]\n",
    "    \n",
    "    #get k4 values\n",
    "    y_temp[:] = yi[:] + (0.3)*k1[:]+ (-0.9)*k2[:]+ (6.0/5.0)*k3[:]\n",
    "    y_derivs = dydx(x_4,y_temp)\n",
    "    k4[:] = h*y_derivs[:]\n",
    "    \n",
    "    #get k5 values\n",
    "    y_temp[:] = yi[:] + (-11.0/54.0)*k1[:]+ (5.0/2.0)*k2[:]+ (-70.0/27.0)*k3[:] + (35.0/27.0)*k4[:]\n",
    "    y_derivs = dydx(x_5,y_temp)\n",
    "    k4[:] = h*y_derivs[:]\n",
    "    \n",
    "    #get k6 values\n",
    "    y_temp[:] = yi[:] + k3[:] + (1631.0/55296.0)*k1[:]+ (175.0/512.0)*k2[:]+ (575.0/13824.0)*k3[:] + (44275.0/110592.0)*k4[:] + (253.0/4096.0)*k5[:]\n",
    "    y_derivs = dydx(x_6,y_temp)\n",
    "    k4[:] = h*y_derivs[:]\n",
    "    \n",
    "    \n",
    "    #advance by a step h\n",
    "    yipo = yi + (37.0/378.0)*k1 + (0.0)*k2 + (250.0/621.0)*k3 +(125.0/594.0)*k4 + (0.0)*k5 + (512.0/1771.0)*k6 \n",
    "    yipo_star = yi + (2825.0/27648.0)*k1 + (0.0)*k2 + (18575.0/48384.0)*k3 +(13525.0/55296.0)*k4 + (227.0/14336.0)*k5 + (1.0/4.0)*k6\n",
    "    \n",
    "    return yipo, yipo_star\n",
    "    "
   ]
  },
  {
   "cell_type": "markdown",
   "metadata": {},
   "source": [
    "# Define an adaptive step size driver for RK4"
   ]
  },
  {
   "cell_type": "code",
   "execution_count": 32,
   "metadata": {},
   "outputs": [],
   "source": [
    "def ck_ad(dydx,x_i,y_i,nv,h,tol):\n",
    "    \n",
    "    #define safety scale\n",
    "    SAFETY   = 0.9\n",
    "    H_NEW_FAC= 2.0\n",
    "    \n",
    "    #set a maximum number of iterations\n",
    "    imax = 1000\n",
    "    \n",
    "    #set an iteration variable\n",
    "    i = 0\n",
    "    \n",
    "    #create an error\n",
    "    Delta = np.full(nv,2*tol)\n",
    "    \n",
    "    #remember the step\n",
    "    h_step = h\n",
    "    \n",
    "    #adjust the stuep\n",
    "    while(Delta.max()/tol > 1.0):\n",
    "        \n",
    "        #would you mind actually commenting and explaining this step here:\n",
    "        \n",
    "        #estimate our error by taking one step of size h_step\n",
    "        y, y_star = ck_core(dydx, x_i, y_i, nv, h_step)\n",
    "        \n",
    "        #y_1 = rk4_mv_core(dydx,x_i,y_i,nv,0.5*h_step)\n",
    "        #y_11 = rk4_mv_core(dydx,x_i+0.5*h_step,y_1,nv,0.5*h_step)\n",
    "        \n",
    "        #compputer an error\n",
    "        Delta = np.fabs(y_star-y)\n",
    "        \n",
    "        #if the error is too large, take a smaller step\n",
    "        if(Delta.max()/tol > 1.0):\n",
    "            \n",
    "            #our error is too large, decrease the step\n",
    "            h_step *= SAFETY * (Delta.max()/tol)**(-0.25)\n",
    "            \n",
    "        #check iteration\n",
    "        if(i>=imax):\n",
    "            print(\"Too many iteration in ck_ad()\")\n",
    "            raise StopIteration(\"Ending after i = \",i)\n",
    "            \n",
    "        #iteration\n",
    "        i+=1\n",
    "        \n",
    "    #next time, try to take a bigger step\n",
    "    h_new = np.fmin(h_step * (Delta.max()/tol)**(-0.9),h_step*H_NEW_FAC)\n",
    "    \n",
    "    #return the answer, a new step, and the step we actually took\n",
    "    return y,h_new, h_step"
   ]
  },
  {
   "cell_type": "markdown",
   "metadata": {},
   "source": [
    "# Define a wrapper RK4"
   ]
  },
  {
   "cell_type": "code",
   "execution_count": 33,
   "metadata": {},
   "outputs": [],
   "source": [
    "def ck_wrapper(dfdx,a,b,y_a,tol):\n",
    "    \n",
    "    #dfdx is teh derivative wrt x\n",
    "    # a is the lower bound\n",
    "    #b is the upper bound\n",
    "    #y_a are the boundary conditions\n",
    "    #tol is the tolerance for integrating y\n",
    "    \n",
    "    #define our starting step\n",
    "    xi = a\n",
    "    yi = y_a.copy()\n",
    "    \n",
    "    #an intitial step size == make very small!\n",
    "    h = 1.0e-4 * (b-a)\n",
    "    \n",
    "    #set a maximum number of iterations\n",
    "    imax = 1000\n",
    "    \n",
    "    #set an iteration ariable\n",
    "    i=0\n",
    "    \n",
    "    #set teh number of coupled odes to the size of y_a\n",
    "    nv = len(y_a)\n",
    "    \n",
    "    #set teh initial conditions\n",
    "    x = np.full(1,a)\n",
    "    y = np.full((1,nv),y_a)\n",
    "    \n",
    "    #set a flag\n",
    "    flag = 1\n",
    "    \n",
    "    #loop until we reach the right side\n",
    "    while(flag):\n",
    "        \n",
    "        #calculate y_i+1\n",
    "        yi_new, h_new, h_step = ck_ad(dydx,xi,yi,nv,h,tol)\n",
    "        \n",
    "        #update the step\n",
    "        h = h_new\n",
    "        \n",
    "        #prevent an overshoot\n",
    "        if(xi+h_step>b):\n",
    "            \n",
    "            #take a smaller step\n",
    "            h = b-xi\n",
    "            \n",
    "            #recalculatine y_i+1\n",
    "            yi_new, h_new, h_step = ck_ad(dydx,xi,yi,nv,h,tol)\n",
    "            \n",
    "            #break\n",
    "            flag = 0\n",
    "            \n",
    "        #update values\n",
    "        xi += h_step\n",
    "        yi[:] =yi_new[:]\n",
    "        \n",
    "        #add teh step to the arrays\n",
    "        x = np.append(x,xi)\n",
    "        y_new = np.zeros((len(x),nv))\n",
    "        y_new[0:len(x)-1,:] = y\n",
    "        y_new[-1,:] = yi[:]\n",
    "        del y\n",
    "        y = y_new\n",
    "        \n",
    "        #prevent too many iterations\n",
    "        if(i>imax):\n",
    "            \n",
    "            print(\"Maximum iterations reached.\")\n",
    "            raise StopIteration(\"Iteration number = \",i)\n",
    "            \n",
    "        #iterate\n",
    "        i+= 1\n",
    "        \n",
    "        #output some information\n",
    "        s = \"i = %3d\\tx = %9.8f\\th = %9.8f\\tb=%9.8f\" % (i,xi, h_step, b)\n",
    "        print(s)\n",
    "        \n",
    "        #break if new xi is == b\n",
    "        if(xi==b):\n",
    "            flag = 0\n",
    "            \n",
    "    #return the answer\n",
    "    return x,y"
   ]
  },
  {
   "cell_type": "markdown",
   "metadata": {},
   "source": [
    "# Perform the integration"
   ]
  },
  {
   "cell_type": "code",
   "execution_count": 34,
   "metadata": {},
   "outputs": [
    {
     "ename": "TypeError",
     "evalue": "unsupported operand type(s) for -: 'tuple' and 'tuple'",
     "output_type": "error",
     "traceback": [
      "\u001b[0;31m---------------------------------------------------------------------------\u001b[0m",
      "\u001b[0;31mTypeError\u001b[0m                                 Traceback (most recent call last)",
      "\u001b[0;32m<ipython-input-34-08214c8075c6>\u001b[0m in \u001b[0;36m<module>\u001b[0;34m\u001b[0m\n\u001b[1;32m     10\u001b[0m \u001b[0;34m\u001b[0m\u001b[0m\n\u001b[1;32m     11\u001b[0m \u001b[0;31m#performt he integration\u001b[0m\u001b[0;34m\u001b[0m\u001b[0;34m\u001b[0m\u001b[0;34m\u001b[0m\u001b[0m\n\u001b[0;32m---> 12\u001b[0;31m \u001b[0mx\u001b[0m\u001b[0;34m,\u001b[0m\u001b[0my\u001b[0m \u001b[0;34m=\u001b[0m \u001b[0mck_wrapper\u001b[0m\u001b[0;34m(\u001b[0m\u001b[0mdydx\u001b[0m\u001b[0;34m,\u001b[0m\u001b[0ma\u001b[0m\u001b[0;34m,\u001b[0m\u001b[0mb\u001b[0m\u001b[0;34m,\u001b[0m\u001b[0my_0\u001b[0m\u001b[0;34m,\u001b[0m\u001b[0mtolerance\u001b[0m\u001b[0;34m)\u001b[0m\u001b[0;34m\u001b[0m\u001b[0;34m\u001b[0m\u001b[0m\n\u001b[0m",
      "\u001b[0;32m<ipython-input-33-c746a820cb2f>\u001b[0m in \u001b[0;36mck_wrapper\u001b[0;34m(dfdx, a, b, y_a, tol)\u001b[0m\n\u001b[1;32m     34\u001b[0m \u001b[0;34m\u001b[0m\u001b[0m\n\u001b[1;32m     35\u001b[0m         \u001b[0;31m#calculate y_i+1\u001b[0m\u001b[0;34m\u001b[0m\u001b[0;34m\u001b[0m\u001b[0;34m\u001b[0m\u001b[0m\n\u001b[0;32m---> 36\u001b[0;31m         \u001b[0myi_new\u001b[0m\u001b[0;34m,\u001b[0m \u001b[0mh_new\u001b[0m\u001b[0;34m,\u001b[0m \u001b[0mh_step\u001b[0m \u001b[0;34m=\u001b[0m \u001b[0mck_ad\u001b[0m\u001b[0;34m(\u001b[0m\u001b[0mdydx\u001b[0m\u001b[0;34m,\u001b[0m\u001b[0mxi\u001b[0m\u001b[0;34m,\u001b[0m\u001b[0myi\u001b[0m\u001b[0;34m,\u001b[0m\u001b[0mnv\u001b[0m\u001b[0;34m,\u001b[0m\u001b[0mh\u001b[0m\u001b[0;34m,\u001b[0m\u001b[0mtol\u001b[0m\u001b[0;34m)\u001b[0m\u001b[0;34m\u001b[0m\u001b[0;34m\u001b[0m\u001b[0m\n\u001b[0m\u001b[1;32m     37\u001b[0m \u001b[0;34m\u001b[0m\u001b[0m\n\u001b[1;32m     38\u001b[0m         \u001b[0;31m#update the step\u001b[0m\u001b[0;34m\u001b[0m\u001b[0;34m\u001b[0m\u001b[0;34m\u001b[0m\u001b[0m\n",
      "\u001b[0;32m<ipython-input-32-a281cb51326f>\u001b[0m in \u001b[0;36mck_ad\u001b[0;34m(dydx, x_i, y_i, nv, h, tol)\u001b[0m\n\u001b[1;32m     31\u001b[0m \u001b[0;34m\u001b[0m\u001b[0m\n\u001b[1;32m     32\u001b[0m         \u001b[0;31m#compputer an error\u001b[0m\u001b[0;34m\u001b[0m\u001b[0;34m\u001b[0m\u001b[0;34m\u001b[0m\u001b[0m\n\u001b[0;32m---> 33\u001b[0;31m         \u001b[0mDelta\u001b[0m \u001b[0;34m=\u001b[0m \u001b[0mnp\u001b[0m\u001b[0;34m.\u001b[0m\u001b[0mfabs\u001b[0m\u001b[0;34m(\u001b[0m\u001b[0my_star\u001b[0m\u001b[0;34m-\u001b[0m\u001b[0my\u001b[0m\u001b[0;34m)\u001b[0m\u001b[0;34m\u001b[0m\u001b[0;34m\u001b[0m\u001b[0m\n\u001b[0m\u001b[1;32m     34\u001b[0m \u001b[0;34m\u001b[0m\u001b[0m\n\u001b[1;32m     35\u001b[0m         \u001b[0;31m#if the error is too large, take a smaller step\u001b[0m\u001b[0;34m\u001b[0m\u001b[0;34m\u001b[0m\u001b[0;34m\u001b[0m\u001b[0m\n",
      "\u001b[0;31mTypeError\u001b[0m: unsupported operand type(s) for -: 'tuple' and 'tuple'"
     ]
    }
   ],
   "source": [
    "a = 0.0\n",
    "b = 2.0 * np.pi\n",
    "\n",
    "y_0 = np.zeros(2)\n",
    "y_0[0] = 0.0\n",
    "y_0[1] = 1.0\n",
    "nv = 2\n",
    "\n",
    "tolerance = 1.0e-6\n",
    "\n",
    "#performt he integration\n",
    "x,y = ck_wrapper(dydx,a,b,y_0,tolerance)"
   ]
  },
  {
   "cell_type": "markdown",
   "metadata": {},
   "source": [
    "# plot the result"
   ]
  },
  {
   "cell_type": "code",
   "execution_count": 11,
   "metadata": {},
   "outputs": [
    {
     "ename": "NameError",
     "evalue": "name 'x' is not defined",
     "output_type": "error",
     "traceback": [
      "\u001b[0;31m---------------------------------------------------------------------------\u001b[0m",
      "\u001b[0;31mNameError\u001b[0m                                 Traceback (most recent call last)",
      "\u001b[0;32m<ipython-input-11-3998989839e9>\u001b[0m in \u001b[0;36m<module>\u001b[0;34m\u001b[0m\n\u001b[0;32m----> 1\u001b[0;31m \u001b[0mplt\u001b[0m\u001b[0;34m.\u001b[0m\u001b[0mplot\u001b[0m\u001b[0;34m(\u001b[0m\u001b[0mx\u001b[0m\u001b[0;34m,\u001b[0m\u001b[0my\u001b[0m\u001b[0;34m[\u001b[0m\u001b[0;34m:\u001b[0m\u001b[0;34m,\u001b[0m\u001b[0;36m0\u001b[0m\u001b[0;34m]\u001b[0m\u001b[0;34m,\u001b[0m\u001b[0;34m'o'\u001b[0m\u001b[0;34m,\u001b[0m\u001b[0mlabel\u001b[0m\u001b[0;34m=\u001b[0m\u001b[0;34m'y(x)'\u001b[0m\u001b[0;34m)\u001b[0m\u001b[0;34m\u001b[0m\u001b[0;34m\u001b[0m\u001b[0m\n\u001b[0m\u001b[1;32m      2\u001b[0m \u001b[0mplt\u001b[0m\u001b[0;34m.\u001b[0m\u001b[0mplot\u001b[0m\u001b[0;34m(\u001b[0m\u001b[0mx\u001b[0m\u001b[0;34m,\u001b[0m\u001b[0my\u001b[0m\u001b[0;34m[\u001b[0m\u001b[0;34m:\u001b[0m\u001b[0;34m,\u001b[0m\u001b[0;36m1\u001b[0m\u001b[0;34m]\u001b[0m\u001b[0;34m,\u001b[0m\u001b[0;34m'o'\u001b[0m\u001b[0;34m,\u001b[0m\u001b[0mlabel\u001b[0m\u001b[0;34m=\u001b[0m\u001b[0;34m'dydx(x)'\u001b[0m\u001b[0;34m)\u001b[0m\u001b[0;34m\u001b[0m\u001b[0;34m\u001b[0m\u001b[0m\n\u001b[1;32m      3\u001b[0m \u001b[0mxx\u001b[0m \u001b[0;34m=\u001b[0m \u001b[0mnp\u001b[0m\u001b[0;34m.\u001b[0m\u001b[0mlinspace\u001b[0m\u001b[0;34m(\u001b[0m\u001b[0;36m0\u001b[0m\u001b[0;34m,\u001b[0m\u001b[0;36m2.0\u001b[0m\u001b[0;34m*\u001b[0m\u001b[0mnp\u001b[0m\u001b[0;34m.\u001b[0m\u001b[0mpi\u001b[0m\u001b[0;34m,\u001b[0m\u001b[0;36m1000\u001b[0m\u001b[0;34m)\u001b[0m\u001b[0;34m\u001b[0m\u001b[0;34m\u001b[0m\u001b[0m\n\u001b[1;32m      4\u001b[0m \u001b[0mplt\u001b[0m\u001b[0;34m.\u001b[0m\u001b[0mplot\u001b[0m\u001b[0;34m(\u001b[0m\u001b[0mxx\u001b[0m\u001b[0;34m,\u001b[0m\u001b[0mnp\u001b[0m\u001b[0;34m.\u001b[0m\u001b[0msin\u001b[0m\u001b[0;34m(\u001b[0m\u001b[0mxx\u001b[0m\u001b[0;34m)\u001b[0m\u001b[0;34m,\u001b[0m\u001b[0mlabel\u001b[0m\u001b[0;34m=\u001b[0m\u001b[0;34m'sinx'\u001b[0m\u001b[0;34m)\u001b[0m\u001b[0;34m\u001b[0m\u001b[0;34m\u001b[0m\u001b[0m\n\u001b[1;32m      5\u001b[0m \u001b[0mplt\u001b[0m\u001b[0;34m.\u001b[0m\u001b[0mplot\u001b[0m\u001b[0;34m(\u001b[0m\u001b[0mxx\u001b[0m\u001b[0;34m,\u001b[0m\u001b[0mnp\u001b[0m\u001b[0;34m.\u001b[0m\u001b[0mcos\u001b[0m\u001b[0;34m(\u001b[0m\u001b[0mxx\u001b[0m\u001b[0;34m)\u001b[0m\u001b[0;34m,\u001b[0m\u001b[0mlabel\u001b[0m\u001b[0;34m=\u001b[0m\u001b[0;34m'cosx'\u001b[0m\u001b[0;34m)\u001b[0m\u001b[0;34m\u001b[0m\u001b[0;34m\u001b[0m\u001b[0m\n",
      "\u001b[0;31mNameError\u001b[0m: name 'x' is not defined"
     ]
    }
   ],
   "source": [
    "plt.plot(x,y[:,0],'o',label='y(x)')\n",
    "plt.plot(x,y[:,1],'o',label='dydx(x)')\n",
    "xx = np.linspace(0,2.0*np.pi,1000)\n",
    "plt.plot(xx,np.sin(xx),label='sinx')\n",
    "plt.plot(xx,np.cos(xx),label='cosx')\n",
    "plt.xlabel('x')\n",
    "plt.ylabel('y, dy/dx')\n",
    "plt.legend(frameon=False)"
   ]
  },
  {
   "cell_type": "markdown",
   "metadata": {},
   "source": [
    "# Plot the error\n",
    "Notice that the errors will actually exceed our \"tolerance\""
   ]
  },
  {
   "cell_type": "code",
   "execution_count": null,
   "metadata": {},
   "outputs": [],
   "source": [
    "sine = np.sin(x)\n",
    "cosine = np.cos(x)\n",
    "\n",
    "y_error = (y[:,0]-sine)\n",
    "dydx_error = (y[:,1]-cosine)\n",
    "\n",
    "plt.plot(x,y_error, label=\"y(x) Error\")\n",
    "plt.plot(x, dydx_error, label=\"dydx(x) Error\")\n",
    "plt.legend(frameon=False)"
   ]
  },
  {
   "cell_type": "code",
   "execution_count": null,
   "metadata": {},
   "outputs": [],
   "source": []
  },
  {
   "cell_type": "code",
   "execution_count": null,
   "metadata": {},
   "outputs": [],
   "source": []
  }
 ],
 "metadata": {
  "kernelspec": {
   "display_name": "Python 3",
   "language": "python",
   "name": "python3"
  },
  "language_info": {
   "codemirror_mode": {
    "name": "ipython",
    "version": 3
   },
   "file_extension": ".py",
   "mimetype": "text/x-python",
   "name": "python",
   "nbconvert_exporter": "python",
   "pygments_lexer": "ipython3",
   "version": "3.7.3"
  }
 },
 "nbformat": 4,
 "nbformat_minor": 4
}
